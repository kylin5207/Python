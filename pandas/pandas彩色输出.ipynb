{
 "cells": [
  {
   "cell_type": "code",
   "execution_count": 1,
   "id": "5514310d",
   "metadata": {
    "ExecuteTime": {
     "end_time": "2022-06-21T01:21:33.618278Z",
     "start_time": "2022-06-21T01:21:33.260177Z"
    }
   },
   "outputs": [],
   "source": [
    "import pandas as pd"
   ]
  },
  {
   "cell_type": "code",
   "execution_count": 7,
   "id": "0b962bc5",
   "metadata": {
    "ExecuteTime": {
     "end_time": "2022-06-21T01:24:36.922473Z",
     "start_time": "2022-06-21T01:24:36.919185Z"
    }
   },
   "outputs": [],
   "source": [
    "def color_df(val):\n",
    "    color = \"red\" if val < 0 else 'green'\n",
    "    return 'color : %s' % color"
   ]
  },
  {
   "cell_type": "code",
   "execution_count": 8,
   "id": "508c077e",
   "metadata": {
    "ExecuteTime": {
     "end_time": "2022-06-21T01:24:37.287918Z",
     "start_time": "2022-06-21T01:24:37.283413Z"
    }
   },
   "outputs": [],
   "source": [
    "df = pd.DataFrame(dict(col_1=[1.53, 1-2.5, 3.5], col_2=[-4.1,5.9,0]))"
   ]
  },
  {
   "cell_type": "code",
   "execution_count": 9,
   "id": "03f0c4f6",
   "metadata": {
    "ExecuteTime": {
     "end_time": "2022-06-21T01:24:37.695775Z",
     "start_time": "2022-06-21T01:24:37.688128Z"
    }
   },
   "outputs": [
    {
     "data": {
      "text/html": [
       "<div>\n",
       "<style scoped>\n",
       "    .dataframe tbody tr th:only-of-type {\n",
       "        vertical-align: middle;\n",
       "    }\n",
       "\n",
       "    .dataframe tbody tr th {\n",
       "        vertical-align: top;\n",
       "    }\n",
       "\n",
       "    .dataframe thead th {\n",
       "        text-align: right;\n",
       "    }\n",
       "</style>\n",
       "<table border=\"1\" class=\"dataframe\">\n",
       "  <thead>\n",
       "    <tr style=\"text-align: right;\">\n",
       "      <th></th>\n",
       "      <th>col_1</th>\n",
       "      <th>col_2</th>\n",
       "    </tr>\n",
       "  </thead>\n",
       "  <tbody>\n",
       "    <tr>\n",
       "      <th>0</th>\n",
       "      <td>1.53</td>\n",
       "      <td>-4.1</td>\n",
       "    </tr>\n",
       "    <tr>\n",
       "      <th>1</th>\n",
       "      <td>-1.50</td>\n",
       "      <td>5.9</td>\n",
       "    </tr>\n",
       "    <tr>\n",
       "      <th>2</th>\n",
       "      <td>3.50</td>\n",
       "      <td>0.0</td>\n",
       "    </tr>\n",
       "  </tbody>\n",
       "</table>\n",
       "</div>"
      ],
      "text/plain": [
       "   col_1  col_2\n",
       "0   1.53   -4.1\n",
       "1  -1.50    5.9\n",
       "2   3.50    0.0"
      ]
     },
     "execution_count": 9,
     "metadata": {},
     "output_type": "execute_result"
    }
   ],
   "source": [
    "df"
   ]
  },
  {
   "cell_type": "code",
   "execution_count": 10,
   "id": "c351ec2e",
   "metadata": {
    "ExecuteTime": {
     "end_time": "2022-06-21T01:24:38.241588Z",
     "start_time": "2022-06-21T01:24:38.232749Z"
    }
   },
   "outputs": [
    {
     "data": {
      "text/html": [
       "<style type=\"text/css\">\n",
       "#T_1277f_row0_col0, #T_1277f_row1_col1, #T_1277f_row2_col0, #T_1277f_row2_col1 {\n",
       "  color: green;\n",
       "}\n",
       "#T_1277f_row0_col1, #T_1277f_row1_col0 {\n",
       "  color: red;\n",
       "}\n",
       "</style>\n",
       "<table id=\"T_1277f\">\n",
       "  <thead>\n",
       "    <tr>\n",
       "      <th class=\"blank level0\" >&nbsp;</th>\n",
       "      <th id=\"T_1277f_level0_col0\" class=\"col_heading level0 col0\" >col_1</th>\n",
       "      <th id=\"T_1277f_level0_col1\" class=\"col_heading level0 col1\" >col_2</th>\n",
       "    </tr>\n",
       "  </thead>\n",
       "  <tbody>\n",
       "    <tr>\n",
       "      <th id=\"T_1277f_level0_row0\" class=\"row_heading level0 row0\" >0</th>\n",
       "      <td id=\"T_1277f_row0_col0\" class=\"data row0 col0\" >1.530000</td>\n",
       "      <td id=\"T_1277f_row0_col1\" class=\"data row0 col1\" >-4.100000</td>\n",
       "    </tr>\n",
       "    <tr>\n",
       "      <th id=\"T_1277f_level0_row1\" class=\"row_heading level0 row1\" >1</th>\n",
       "      <td id=\"T_1277f_row1_col0\" class=\"data row1 col0\" >-1.500000</td>\n",
       "      <td id=\"T_1277f_row1_col1\" class=\"data row1 col1\" >5.900000</td>\n",
       "    </tr>\n",
       "    <tr>\n",
       "      <th id=\"T_1277f_level0_row2\" class=\"row_heading level0 row2\" >2</th>\n",
       "      <td id=\"T_1277f_row2_col0\" class=\"data row2 col0\" >3.500000</td>\n",
       "      <td id=\"T_1277f_row2_col1\" class=\"data row2 col1\" >0.000000</td>\n",
       "    </tr>\n",
       "  </tbody>\n",
       "</table>\n"
      ],
      "text/plain": [
       "<pandas.io.formats.style.Styler at 0x7f8c895ed5e0>"
      ]
     },
     "execution_count": 10,
     "metadata": {},
     "output_type": "execute_result"
    }
   ],
   "source": [
    "df.style.applymap(color_df)"
   ]
  },
  {
   "cell_type": "code",
   "execution_count": null,
   "id": "41d906e5",
   "metadata": {},
   "outputs": [],
   "source": []
  }
 ],
 "metadata": {
  "kernelspec": {
   "display_name": "Python 3 (ipykernel)",
   "language": "python",
   "name": "python3"
  },
  "language_info": {
   "codemirror_mode": {
    "name": "ipython",
    "version": 3
   },
   "file_extension": ".py",
   "mimetype": "text/x-python",
   "name": "python",
   "nbconvert_exporter": "python",
   "pygments_lexer": "ipython3",
   "version": "3.8.6"
  }
 },
 "nbformat": 4,
 "nbformat_minor": 5
}
