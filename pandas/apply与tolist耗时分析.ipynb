{
 "cells": [
  {
   "cell_type": "markdown",
   "id": "98763877",
   "metadata": {},
   "source": [
    "## apply()和tolist()在拆分pandas某个列表特征数据的耗时分析"
   ]
  },
  {
   "cell_type": "markdown",
   "id": "0d7cab26",
   "metadata": {},
   "source": [
    "tolist()方法要快一些，大概一倍"
   ]
  },
  {
   "cell_type": "code",
   "execution_count": 12,
   "id": "6abdb2f3",
   "metadata": {
    "scrolled": true
   },
   "outputs": [
    {
     "data": {
      "text/plain": [
       "0              [0, 25]\n",
       "1              [1, 19]\n",
       "2              [2, 21]\n",
       "3              [3, 48]\n",
       "4              [4, 48]\n",
       "              ...     \n",
       "999995    [999995, 48]\n",
       "999996    [999996, 19]\n",
       "999997    [999997, 13]\n",
       "999998    [999998, 44]\n",
       "999999    [999999, 36]\n",
       "Name: data, Length: 1000000, dtype: object"
      ]
     },
     "execution_count": 12,
     "metadata": {},
     "output_type": "execute_result"
    }
   ],
   "source": [
    "df['data']"
   ]
  },
  {
   "cell_type": "code",
   "execution_count": 1,
   "id": "38722bc7",
   "metadata": {},
   "outputs": [],
   "source": [
    "import numpy as np"
   ]
  },
  {
   "cell_type": "code",
   "execution_count": 2,
   "id": "9679e675",
   "metadata": {},
   "outputs": [],
   "source": [
    "import pandas as pd"
   ]
  },
  {
   "cell_type": "code",
   "execution_count": 8,
   "id": "38064851",
   "metadata": {},
   "outputs": [],
   "source": [
    "import time"
   ]
  },
  {
   "cell_type": "markdown",
   "id": "88a29b6f",
   "metadata": {},
   "source": [
    "一、数据生成"
   ]
  },
  {
   "cell_type": "code",
   "execution_count": 3,
   "id": "7af0b8cc",
   "metadata": {},
   "outputs": [],
   "source": [
    "value = np.random.randint(10, 50, 1000000)"
   ]
  },
  {
   "cell_type": "code",
   "execution_count": 4,
   "id": "88243988",
   "metadata": {},
   "outputs": [],
   "source": [
    "ids = np.arange(1000000)"
   ]
  },
  {
   "cell_type": "code",
   "execution_count": 5,
   "id": "430f06ae",
   "metadata": {},
   "outputs": [],
   "source": [
    "df = pd.DataFrame({'id':ids, 'value':value})"
   ]
  },
  {
   "cell_type": "code",
   "execution_count": 6,
   "id": "682e4ba4",
   "metadata": {},
   "outputs": [],
   "source": [
    "data = [[i, j] for i, j in zip(ids, value)]"
   ]
  },
  {
   "cell_type": "code",
   "execution_count": 7,
   "id": "aadf1646",
   "metadata": {},
   "outputs": [],
   "source": [
    "df = pd.DataFrame({'data':data})"
   ]
  },
  {
   "cell_type": "markdown",
   "id": "f671a53a",
   "metadata": {},
   "source": [
    "###  · tolist()"
   ]
  },
  {
   "cell_type": "code",
   "execution_count": 9,
   "id": "a4647447",
   "metadata": {},
   "outputs": [
    {
     "name": "stdout",
     "output_type": "stream",
     "text": [
      "0.5133209228515625\n"
     ]
    }
   ],
   "source": [
    "t1 = time.time()\n",
    "pd.DataFrame(df['data'].values.tolist())\n",
    "t2 = time.time()\n",
    "print(t2-t1)"
   ]
  },
  {
   "cell_type": "markdown",
   "id": "a841a6e5",
   "metadata": {},
   "source": [
    "### ·apply()"
   ]
  },
  {
   "cell_type": "code",
   "execution_count": 10,
   "id": "265c4adc",
   "metadata": {},
   "outputs": [],
   "source": [
    "def test_func(x, i):\n",
    "    return x[i]"
   ]
  },
  {
   "cell_type": "code",
   "execution_count": 11,
   "id": "2783858e",
   "metadata": {},
   "outputs": [
    {
     "name": "stdout",
     "output_type": "stream",
     "text": [
      "1.0200018882751465\n"
     ]
    }
   ],
   "source": [
    "t1 = time.time()\n",
    "df['d1'] = df['data'].apply(test_func, args=(0,))\n",
    "df['d2'] = df['data'].apply(test_func, args=(1,))\n",
    "t2 = time.time()\n",
    "print(t2 - t1)"
   ]
  },
  {
   "cell_type": "code",
   "execution_count": null,
   "id": "51cd8b08",
   "metadata": {},
   "outputs": [],
   "source": []
  }
 ],
 "metadata": {
  "kernelspec": {
   "display_name": "Python 3",
   "language": "python",
   "name": "python3"
  },
  "language_info": {
   "codemirror_mode": {
    "name": "ipython",
    "version": 3
   },
   "file_extension": ".py",
   "mimetype": "text/x-python",
   "name": "python",
   "nbconvert_exporter": "python",
   "pygments_lexer": "ipython3",
   "version": "3.6.8"
  }
 },
 "nbformat": 4,
 "nbformat_minor": 5
}
